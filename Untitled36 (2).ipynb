{
 "cells": [
  {
   "cell_type": "code",
   "execution_count": 2,
   "id": "22920562-3966-4692-9052-20d1a9c8cdc1",
   "metadata": {},
   "outputs": [
    {
     "name": "stdout",
     "output_type": "stream",
     "text": [
      "Prediction: The players can play.\n",
      "Accuracy of the model:  0.8888888888888888\n"
     ]
    },
    {
     "name": "stderr",
     "output_type": "stream",
     "text": [
      "C:\\Users\\ABC\\anaconda3\\Lib\\site-packages\\sklearn\\base.py:439: UserWarning: X does not have valid feature names, but GaussianNB was fitted with feature names\n",
      "  warnings.warn(\n"
     ]
    }
   ],
   "source": [
    "import pandas as pd\n",
    "from sklearn.naive_bayes import GaussianNB\n",
    "from sklearn.model_selection import train_test_split\n",
    "from sklearn.metrics import accuracy_score\n",
    "\n",
    "# Step 1: Create the dataset\n",
    "\n",
    "# Creating a DataFrame for the provided dataset\n",
    "data = {\n",
    "    'Weather': ['Sunny', 'Sunny', 'Sunny', 'Overcast', 'Overcast', 'Overcast', 'Rainy', 'Rainy', 'Rainy'],\n",
    "    'Temperature': ['Hot', 'Mild', 'Cool', 'Hot', 'Mild', 'Cool', 'Hot', 'Mild', 'Cool'],\n",
    "    'Play': ['No', 'No', 'Yes', 'Yes', 'Yes', 'Yes', 'No', 'No', 'Yes']\n",
    "}\n",
    "\n",
    "df = pd.DataFrame(data)\n",
    "\n",
    "# Step 2: Encoding categorical variables (Weather, Temperature, Play)\n",
    "# Encoding 'Play' as 1 (Yes) and 0 (No)\n",
    "df['Play'] = df['Play'].map({'Yes': 1, 'No': 0})\n",
    "\n",
    "# Encoding 'Weather' and 'Temperature' as integers\n",
    "df['Weather'] = df['Weather'].map({'Sunny': 0, 'Overcast': 1, 'Rainy': 2})\n",
    "df['Temperature'] = df['Temperature'].map({'Hot': 0, 'Mild': 1, 'Cool': 2})\n",
    "\n",
    "# Step 3: Define features and target\n",
    "X = df[['Weather', 'Temperature']]  # Features: Weather and Temperature\n",
    "y = df['Play']  # Target: Play (Yes/No)\n",
    "\n",
    "# Step 4: Train a Naive Bayes classifier\n",
    "model = GaussianNB()\n",
    "model.fit(X, y)\n",
    "\n",
    "# Step 5: Make a prediction for the scenario where Weather is Overcast and Temperature is Mild\n",
    "prediction = model.predict([[1, 1]])  # Overcast (1) and Mild (1)\n",
    "\n",
    "# Step 6: Output the prediction\n",
    "if prediction == 1:\n",
    "    print(\"Prediction: The players can play.\")\n",
    "else:\n",
    "    print(\"Prediction: The players cannot play.\")\n",
    "# Step 7: Evaluate the model (optional)\n",
    "y_pred = model.predict(X)\n",
    "print(\"Accuracy of the model: \", accuracy_score(y, y_pred))"
   ]
  },
  {
   "cell_type": "code",
   "execution_count": null,
   "id": "ba916a81-547b-4ff6-834c-c951e33702e8",
   "metadata": {},
   "outputs": [],
   "source": []
  }
 ],
 "metadata": {
  "kernelspec": {
   "display_name": "Python 3 (ipykernel)",
   "language": "python",
   "name": "python3"
  },
  "language_info": {
   "codemirror_mode": {
    "name": "ipython",
    "version": 3
   },
   "file_extension": ".py",
   "mimetype": "text/x-python",
   "name": "python",
   "nbconvert_exporter": "python",
   "pygments_lexer": "ipython3",
   "version": "3.11.7"
  }
 },
 "nbformat": 4,
 "nbformat_minor": 5
}
